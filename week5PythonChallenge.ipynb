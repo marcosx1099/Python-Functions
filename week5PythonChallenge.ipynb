{
 "cells": [
  {
   "cell_type": "markdown",
   "id": "69df3727",
   "metadata": {},
   "source": [
    "###### ABC Tech, USA, has the practice of providing its employees with a 100  dollar gift voucher on their birthdays. The company also provides gift vouchers to its employees on three US federal holidays, namely Independence Day, Veterans Day, and Christmas.\n",
    "\n",
    "If any of the three federal holidays fall in the birthday month of an employee, then the company wants to send a combined gift voucher at the beginning of the month along with the employee's name and voucher details.\n",
    "\n",
    "Write a program in Python that combines the birthday voucher and holiday voucher of an employee if the holiday falls in the birthday month of the employee."
   ]
  },
  {
   "cell_type": "code",
   "execution_count": 2,
   "id": "3d889ae4",
   "metadata": {},
   "outputs": [],
   "source": [
    "emp_details={\"John Lee\":\"12-12-1976\",\n",
    "             \"Tim Brooks\":\"11-04-1980\",\n",
    "             \"Alice Cook\":\"07-1-1978\",\n",
    "             \"Joshua John\":\"05-02-1991\",\n",
    "             \"Alisa Matt\":\"03-04-1990\"}\n",
    "\n",
    "DECEMBER = '12'\n",
    "NOVEMBER = '11'\n",
    "JULY = '07'"
   ]
  },
  {
   "cell_type": "markdown",
   "id": "44e900ac",
   "metadata": {},
   "source": [
    "Dates of Federal Holidays in MM-DD format \n",
    "\n",
    "Christmas : 25th Dec \n",
    "(12-25) \n",
    "\n",
    "Veterans Day : 11th November  \n",
    "(11-11)\n",
    "\n",
    "Independence Day : 4th july \n",
    "(7-4)\n",
    "    \n",
    "  "
   ]
  },
  {
   "cell_type": "code",
   "execution_count": 3,
   "id": "eab58bbf",
   "metadata": {},
   "outputs": [],
   "source": [
    "#function to print the birthday and Christmas greetings message \n",
    "def bday_christmas():  \n",
    "    print('Wishing you a happy birthday! For your birthday and the upcoming Christmas season, we offer you a gift voucher valued $250. ')"
   ]
  },
  {
   "cell_type": "code",
   "execution_count": 4,
   "id": "7f75f7d0",
   "metadata": {},
   "outputs": [],
   "source": [
    "#function to print the birthday and Veterans day greetings message\n",
    "def bday_veterans():\n",
    "    print('Wishing you a happy birthday! For your birthday and the upcoming Veterans Day, we offer you a gift voucher valued $250. ')"
   ]
  },
  {
   "cell_type": "code",
   "execution_count": 5,
   "id": "00ea9331",
   "metadata": {},
   "outputs": [],
   "source": [
    "#function to print the birthday and Independence Day greetings message \n",
    "def bday_independence():\n",
    "    print('Wishing you a happy birthday! For your birthday and the upcoming Independence Day, we offer you a gift voucher valued $250. ')"
   ]
  },
  {
   "cell_type": "code",
   "execution_count": 6,
   "id": "4d12856a",
   "metadata": {},
   "outputs": [],
   "source": [
    "#function to print only the birthday greetings message\n",
    "def bday_only():\n",
    "    print('Wishing you a happy birthday! For your birthday, we offer you a gift voucher valued $100.')"
   ]
  },
  {
   "cell_type": "code",
   "execution_count": 7,
   "id": "e5f57398",
   "metadata": {},
   "outputs": [],
   "source": [
    "# Code block to traverse the emp_details dictionary and check if the month\n",
    "# in DOB of employees coincides with the month of the three federal holidays. \n",
    "\n",
    "def traverse_employee_dictionary():\n",
    "    for emp_name in emp_details:\n",
    "        month = emp_details[emp_name].split(\"-\")[0]\n",
    "        print(f'Dear {emp_name},')\n",
    "        if month == DECEMBER:\n",
    "            bday_christmas()\n",
    "        elif month == NOVEMBER:\n",
    "            bday_veterans()\n",
    "        elif month == JULY:\n",
    "            bday_independence()\n",
    "        else:\n",
    "            bday_only()\n",
    "        print(\"\\n\")"
   ]
  },
  {
   "cell_type": "code",
   "execution_count": 9,
   "id": "7681fbea",
   "metadata": {},
   "outputs": [
    {
     "name": "stdout",
     "output_type": "stream",
     "text": [
      "Dear John Lee,\n",
      "Wishing you a happy birthday! For your birthday and the upcoming Christmas season, we offer you a gift voucher valued $250. \n",
      "\n",
      "\n",
      "Dear Tim Brooks,\n",
      "Wishing you a happy birthday! For your birthday and the upcoming Veterans Day, we offer you a gift voucher valued $250. \n",
      "\n",
      "\n",
      "Dear Alice Cook,\n",
      "Wishing you a happy birthday! For your birthday and the upcoming Independence Day, we offer you a gift voucher valued $250. \n",
      "\n",
      "\n",
      "Dear Joshua John,\n",
      "Wishing you a happy birthday! For your birthday, we offer you a gift voucher valued $100.\n",
      "\n",
      "\n",
      "Dear Alisa Matt,\n",
      "Wishing you a happy birthday! For your birthday, we offer you a gift voucher valued $100.\n",
      "\n",
      "\n"
     ]
    }
   ],
   "source": [
    "traverse_employee_dictionary()"
   ]
  },
  {
   "cell_type": "code",
   "execution_count": null,
   "id": "c426fbb9",
   "metadata": {},
   "outputs": [],
   "source": []
  },
  {
   "cell_type": "code",
   "execution_count": null,
   "id": "84adbd82",
   "metadata": {},
   "outputs": [],
   "source": []
  }
 ],
 "metadata": {
  "kernelspec": {
   "display_name": "Python 3 (ipykernel)",
   "language": "python",
   "name": "python3"
  },
  "language_info": {
   "codemirror_mode": {
    "name": "ipython",
    "version": 3
   },
   "file_extension": ".py",
   "mimetype": "text/x-python",
   "name": "python",
   "nbconvert_exporter": "python",
   "pygments_lexer": "ipython3",
   "version": "3.10.9"
  }
 },
 "nbformat": 4,
 "nbformat_minor": 5
}
